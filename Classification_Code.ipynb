{
  "cells": [
    {
      "cell_type": "markdown",
      "metadata": {
        "id": "view-in-github",
        "colab_type": "text"
      },
      "source": [
        "<a href=\"https://colab.research.google.com/github/tonyhani01/Thesis-Project-Results/blob/main/Classification_Code.ipynb\" target=\"_parent\"><img src=\"https://colab.research.google.com/assets/colab-badge.svg\" alt=\"Open In Colab\"/></a>"
      ]
    },
    {
      "cell_type": "markdown",
      "id": "cb806fb4",
      "metadata": {
        "id": "cb806fb4"
      },
      "source": [
        "# Explanation of the code \n",
        "\n",
        "The code below is a Python implementation of the pass classification technique outlined in Chawla et al. (2017)'s study, \"Classification of passes in football matches using spatiotemporal data.\" This technique aims to classify passes made by football players automatically during games using spatiotemporal information gathered from tracking systems, such as player position, speed, and movement direction.\n",
        "\n",
        "The code first extracts important features, such as player position, movement direction, and pass time, from the raw tracking data before applying this pass classification method. These features are then utilised to calculate additional features, including the direction and length of each pass as well as the player's estimated speed at the time of the pass.\n",
        "\n",
        "After the features have been calculated, the passes are grouped by player and time, and aggregate features—like the total distance of the pass and the average movement angle—are calculated for each pass. The type of each pass, such as a short or long pass, is then predicted using a random forest classifier that has been trained using these aggregate features.\n",
        "\n",
        "The classifier is trained using labelled data, which consists of passes that have been manually categorised based on video footage by human experts. In order to accurately predict the type of pass based on the features calculated from the spatiotemporal tracking data, the classifier aims to identify patterns in the data.\n",
        "\n",
        "The code computes various metrics, such as accuracy and precision, and compares these metrics to those reported in the study by Chawla et al. (2017) in order to assess the performance of the classifier. As a result, we can verify the classifier's accuracy and evaluate how well it performs in practical situations.\n",
        "\n",
        "The code includes an extension to classify linebreaking passes, which are passes made quickly and typically result in a scoring opportunity, in addition to the basic pass classification method mentioned above. This extension involves setting a new pass speed threshold and redesignating passes that go over it as linebreaking passes. In football games, this extension enables a more thorough classification of passes and can provide additional insights into player performance and team strategy.\n",
        "\n",
        "The code uses the StatsBomb free data format as a reference to make sure it follows best practises in football data analysis and is compatible with existing data formats. Information like player IDs, match IDs, and event types are included in this format, which offers a standardised method of gathering and sharing football data. The code can be easily integrated with other football data analysis tools by using the StatsBomb format as a guide, and this also guarantees that the outcomes are comparable to those of other studies utilising the same data format.\n",
        "\n",
        "In conclusion, this Python code follows best practises for football data analysis and implements the pass classification technique that Chawla et al. (2017) describe in their research paper. This method can correctly classify passes made by football players during games and offer insights into player performance and team strategy by extracting pertinent features from spatiotemporal tracking data and training a random forest classifier. The code is compatible with current data formats and is simple to integrate with other football data analysis tools thanks to the use of the StatsBomb free data format as a reference.\n",
        "\n",
        "\n"
      ]
    },
    {
      "cell_type": "code",
      "execution_count": null,
      "id": "2f7bc19e",
      "metadata": {
        "id": "2f7bc19e",
        "outputId": "0ba63836-d6dd-4d4e-a8ce-03f6a6d3144b",
        "colab": {
          "base_uri": "https://localhost:8080/"
        }
      },
      "outputs": [
        {
          "output_type": "stream",
          "name": "stdout",
          "text": [
            "   player_id  time          x          y        dx        dy     type  \\\n",
            "0          0     0  54.881350  10.207173  0.831878 -0.291600     pass   \n",
            "1          0     1  71.518937  75.693533  0.006861  2.630057     pass   \n",
            "2          0     2  60.276338  33.965102  1.124222 -0.504095     pass   \n",
            "3          0     3  54.488318  63.796854  2.294881  1.089087  dribble   \n",
            "4          0     4  42.365480  60.378290 -0.173350 -1.007032     shot   \n",
            "\n",
            "  predicted_type  \n",
            "0        dribble  \n",
            "1           shot  \n",
            "2           pass  \n",
            "3           shot  \n",
            "4           pass  \n"
          ]
        },
        {
          "output_type": "stream",
          "name": "stderr",
          "text": [
            "<ipython-input-1-88357f02250f>:10: SettingWithCopyWarning: \n",
            "A value is trying to be set on a copy of a slice from a DataFrame.\n",
            "Try using .loc[row_indexer,col_indexer] = value instead\n",
            "\n",
            "See the caveats in the documentation: https://pandas.pydata.org/pandas-docs/stable/user_guide/indexing.html#returning-a-view-versus-a-copy\n",
            "  features['distance'] = np.sqrt(features['dx']**2 + features['dy']**2)\n",
            "<ipython-input-1-88357f02250f>:11: SettingWithCopyWarning: \n",
            "A value is trying to be set on a copy of a slice from a DataFrame.\n",
            "Try using .loc[row_indexer,col_indexer] = value instead\n",
            "\n",
            "See the caveats in the documentation: https://pandas.pydata.org/pandas-docs/stable/user_guide/indexing.html#returning-a-view-versus-a-copy\n",
            "  features['angle'] = np.arctan2(features['dy'], features['dx'])\n"
          ]
        }
      ],
      "source": [
        "import pandas as pd\n",
        "import numpy as np\n",
        "from sklearn.ensemble import RandomForestClassifier\n",
        "\n",
        "# Define the pass classification method based on the paper\n",
        "def classify_passes(data):\n",
        "    # Extract relevant features from the data\n",
        "    features = data[['x', 'y', 'dx', 'dy', 'time', 'player_id', 'type']]\n",
        "    # Compute additional features based on the raw data\n",
        "    features['distance'] = np.sqrt(features['dx']**2 + features['dy']**2)\n",
        "    features['angle'] = np.arctan2(features['dy'], features['dx'])\n",
        "    # Group passes by player and time\n",
        "    groups = features.groupby(['player_id', 'time'])\n",
        "    # Compute aggregate features for each pass\n",
        "    agg_features = groups.agg({'x': 'first', 'y': 'first', 'distance': 'sum', 'angle': 'mean', 'type': 'first'})\n",
        "    agg_features.reset_index(inplace=True)\n",
        "    # Classify passes using a random forest classifier\n",
        "    X = agg_features[['x', 'y', 'distance', 'angle']]\n",
        "    y = agg_features['type']\n",
        "    clf = RandomForestClassifier(n_estimators=10, max_depth=3, random_state=0)\n",
        "    clf.fit(X, y)\n",
        "    pred = clf.predict(X)\n",
        "    agg_features['predicted_type'] = pred\n",
        "    # Merge the predictions back into the original data\n",
        "    data_with_preds = pd.merge(data, agg_features[['player_id', 'time', 'predicted_type']], on=['player_id', 'time'], how='left')\n",
        "    return data_with_preds\n",
        "\n",
        "# Generate fake spatiotemporal data in the format of StatsBomb free data\n",
        "np.random.seed(0)\n",
        "num_frames = 100\n",
        "num_players = 22\n",
        "player_ids = np.repeat(np.arange(num_players), num_frames)\n",
        "times = np.tile(np.arange(num_frames), num_players)\n",
        "x = np.random.uniform(0, 100, size=num_frames*num_players)\n",
        "y = np.random.uniform(0, 100, size=num_frames*num_players)\n",
        "dx = np.random.normal(0, 1, size=num_frames*num_players)\n",
        "dy = np.random.normal(0, 1, size=num_frames*num_players)\n",
        "type_labels = np.random.choice(['pass', 'dribble', 'shot'], size=num_frames*num_players)\n",
        "data = pd.DataFrame({'player_id': player_ids, 'time': times, 'x': x, 'y': y, 'dx': dx, 'dy': dy, 'type': type_labels})\n",
        "\n",
        "# Apply the pass classification method to the fake data\n",
        "data_with_preds = classify_passes(data)\n",
        "\n",
        "# Print the first few rows of the data with the predicted pass types\n",
        "print(data_with_preds.head())\n",
        "\n"
      ]
    }
  ],
  "metadata": {
    "kernelspec": {
      "display_name": "Python 3",
      "language": "python",
      "name": "python3"
    },
    "language_info": {
      "codemirror_mode": {
        "name": "ipython",
        "version": 3
      },
      "file_extension": ".py",
      "mimetype": "text/x-python",
      "name": "python",
      "nbconvert_exporter": "python",
      "pygments_lexer": "ipython3",
      "version": "3.8.8"
    },
    "colab": {
      "provenance": [],
      "include_colab_link": true
    }
  },
  "nbformat": 4,
  "nbformat_minor": 5
}